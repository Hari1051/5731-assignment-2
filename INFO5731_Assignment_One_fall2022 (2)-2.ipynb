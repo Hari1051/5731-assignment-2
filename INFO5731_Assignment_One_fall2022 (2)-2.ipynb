{
 "cells": [
  {
   "cell_type": "markdown",
   "metadata": {
    "colab_type": "text",
    "id": "view-in-github"
   },
   "source": [
    "<a href=\"https://colab.research.google.com/github/unt-iialab/INFO5731_Spring2020/blob/master/Assignments/INFO5731_Assignment_One.ipynb\" target=\"_parent\"><img src=\"https://colab.research.google.com/assets/colab-badge.svg\" alt=\"Open In Colab\"/></a>"
   ]
  },
  {
   "cell_type": "markdown",
   "metadata": {
    "colab_type": "text",
    "id": "Ryk8D1Q4Wsrp"
   },
   "source": [
    "# **INFO5731 Assignment One**"
   ]
  },
  {
   "cell_type": "markdown",
   "metadata": {
    "colab_type": "text",
    "id": "90_NR8c5XGWc"
   },
   "source": [
    "# Question 1\n",
    "\n",
    "(20 points). Write a Python program to generate 12 random numbers between 1 and 100. Sort the list of numbers in ascending order and print it out. Sort the list of numbers in descending order and print it out. Calculate the average for the group and print it out."
   ]
  },
  {
   "cell_type": "code",
   "execution_count": 1,
   "metadata": {
    "colab": {},
    "colab_type": "code",
    "id": "5QX6bJjGWXY9"
   },
   "outputs": [
    {
     "name": "stdout",
     "output_type": "stream",
     "text": [
      "Ascending order of the list is [1, 2, 8, 9, 9, 20, 44, 52, 56, 59, 73, 98]\n",
      "Descending order of the list is [98, 73, 59, 56, 52, 44, 20, 9, 9, 8, 2, 1]\n",
      "Average of the list is 35.916666666666664\n"
     ]
    }
   ],
   "source": [
    "# Your code here\n",
    "import random\n",
    "lst = []\n",
    "for i in range(12):\n",
    "\n",
    "    lst.append(random.randint(0,100))\n",
    "    \n",
    "lst.sort()    \n",
    "lst_asc = lst\n",
    "print(\"Ascending order of the list is\",lst_asc)\n",
    "lst.sort(reverse=True)\n",
    "lst_desc = lst\n",
    "print(\"Descending order of the list is\",lst_desc)\n",
    "\n",
    "print(\"Average of the list is\", sum(lst)/len(lst))"
   ]
  },
  {
   "cell_type": "markdown",
   "metadata": {
    "colab_type": "text",
    "id": "1F_PZdH9Sh49"
   },
   "source": [
    "# Question 2\n",
    "(25 points). Write a program that will do the following string formatting tasks:\n",
    "\n",
    "(1) Ask the user to enter two sentences.\n",
    "\n",
    "(2) Make each sentence into a list. Each element in the list should correspond to a word in the sentence. For example, if the sentence is \"Alas! Am I alive? This is my first python program\", the program should print out ['Alas, '!', 'Am', 'I', 'alive, '?', 'This', 'is', 'my', 'first', 'python', 'program'].\n",
    "\n",
    "(3) Compare the two sentences. Print out a list of words that occur in both sentences.\n",
    "\n",
    "(4) Remove any punctuation from the sentence and print it back out. It should remove at least the following characters, but it can remove more: period(“.”), comma (“,”), semicolon (“;”), and colon (“:”)\n",
    "\n",
    "(5) Count the number of vowels in the sentences. Print out each vowel and the number of times it appears in the sentences, such as: a:2, e:1, i:0, etc"
   ]
  },
  {
   "cell_type": "code",
   "execution_count": 2,
   "metadata": {
    "colab": {},
    "colab_type": "code",
    "id": "Y0oOSlsOS0cq"
   },
   "outputs": [
    {
     "name": "stdout",
     "output_type": "stream",
     "text": [
      "\"Heyy .. you!\n",
      "How are you?\n",
      "['\"', 'Heyy', '.', '.', 'you', '!', 'How', 'are', 'you', '?']\n",
      "['you']\n",
      "First sentence after removing punctuation: \" Heyy you !\n",
      "second sentence after removing punctuation: How are you ?\n",
      "Number of vowels in first sentence are: \n",
      " a:0, e:1, i:0, o:1, u:1\n",
      "Number of vowels in second sentence are: \n",
      " a:1, e:1, i:0, o:2, u:1\n"
     ]
    }
   ],
   "source": [
    "# Your code here\n",
    "\n",
    "#1\n",
    "\n",
    "s1 = input()\n",
    "s2 = input()\n",
    "\n",
    "#2\n",
    "\n",
    "s1.split()\n",
    "\n",
    "import re\n",
    "l1 = re.findall(r\"\\w+|[^\\w\\s]\", s1)\n",
    "l2 = re.findall(r\"\\w+|[^\\w\\s]\", s2)\n",
    "\n",
    "print(l1+l2)\n",
    "\n",
    "#3\n",
    "common = [i for i in l1 if i in l2]\n",
    "print(common)\n",
    "\n",
    "#4\n",
    "l1 = [i for i in l1 if i not in ('.',',',';',':')]\n",
    "l2 = [i for i in l2 if i not in ('.',',',';',':')]\n",
    "\n",
    "print(\"First sentence after removing punctuation:\",\" \".join(l1))\n",
    "print(\"second sentence after removing punctuation:\",\" \".join(l2))\n",
    "\n",
    "#5\n",
    "a =0; b=0;c=0;d=0;e=0;\n",
    "\n",
    "print(\"Number of vowels in first sentence are: \\n a:{0}, e:{1}, i:{2}, o:{3}, u:{4}\".format(s1.count('a'),s1.count('e'),s1.count('i'),s1.count('o'),s1.count('u')))\n",
    "print(\"Number of vowels in second sentence are: \\n a:{0}, e:{1}, i:{2}, o:{3}, u:{4}\".format(s2.count('a'),s2.count('e'),s2.count('i'),s2.count('o'),s2.count('u')))\n",
    "\n"
   ]
  },
  {
   "cell_type": "markdown",
   "metadata": {
    "colab_type": "text",
    "id": "CmFoI4jDS9nx"
   },
   "source": [
    "# Question 3 \n",
    "\n",
    "(15 points). The formula that describes the volume V of a sphere with radius r is the following:\n",
    "\n",
    "$ V=\\frac{4}{3}\\ast\\ \\pi\\ast\\ r^3 $\n",
    "\n",
    "Write a program to calculate the value of V when r is in the range of 1–10. Output the result in the following format:\n",
    "\n",
    "\tr\tV\n",
    "\t1\t…\n",
    "\t2\t…\n",
    "\t3\t…\n"
   ]
  },
  {
   "cell_type": "code",
   "execution_count": 3,
   "metadata": {
    "colab": {},
    "colab_type": "code",
    "id": "pEyqeioAT95b"
   },
   "outputs": [
    {
     "name": "stdout",
     "output_type": "stream",
     "text": [
      "r \t V\n",
      "1 \t 8.377580409572781\n",
      "2 \t 4.1887902047863905\n",
      "3 \t 0.0\n",
      "4 \t 29.321531433504735\n",
      "5 \t 25.132741228718345\n",
      "6 \t 20.94395102393195\n",
      "7 \t 16.755160819145562\n",
      "8 \t 46.0766922526503\n",
      "9 \t 41.8879020478639\n",
      "10 \t 37.69911184307752\n"
     ]
    }
   ],
   "source": [
    "# Your code here\n",
    "import math as m\n",
    "\n",
    "V = {}\n",
    "\n",
    "for i in range(1,11):\n",
    "    V[i] = (4/3)*m.pi*(i^3)\n",
    "\n",
    "print(\"r\",'\\t','V')\n",
    "for key,value in V.items():\n",
    "    print(key,'\\t',value)\n"
   ]
  },
  {
   "cell_type": "markdown",
   "metadata": {
    "colab_type": "text",
    "id": "z3tBE7E-Xn5X"
   },
   "source": [
    "# Question 4\n",
    "\n",
    "(40 points). In the field of Data Science, data is often formatted as a comma-delimited (CSV) file, where each line in a file corresponds to a field's value. Refer to Chapter 9 (p. 106) for more information on comma-delimited files. To answer this question, you will need to download the file [Assignment1_denton_housing.csv](https://raw.githubusercontent.com/unt-iialab/info5731-spring2022/main/assignments/Assignment1_denton_housing.csv) included with this assignment. The file [Assignment1_denton_housing.csv](https://raw.githubusercontent.com/unt-iialab/info5731-spring2022/main/assignments/Assignment1_denton_housing.csv) contains statistics about housing in the city of Denton from 2008 to 2014. Write a program to implement the following questions.\n",
    "\n",
    "(1) (10 pts) Calculate the difference in the number of Occupied Housing Units from year to year and print it. The difference must be calculated for the consecutive years such as 2008-2009, 2009-2010 etc. Finally, print the values in the ascending order.\n",
    "\n",
    "(2) (10 pts) For all the years, calculate the percentage of housing units which are vacant an occupied. Print the results in the following format:\n",
    "\n",
    "Year Vacant Housing Units Occupied Housing Units\n",
    "\n",
    "    2008  30%   70%                          \n",
    "\t2009 ----- -----\n",
    "\t2010 ----- -----\n",
    "    2011 ----- -----\n",
    "\t2012 ----- -----\n",
    "    2013 ----- -----\n",
    "\t2014 ----- -----\n",
    "  \n",
    "  \n",
    "\n",
    "(3) (10 pts) Calculate and print the valued and years in which the highest number of housing units were vacant and occupied. Print the results in the following format:  \n",
    "\n",
    "                              Year\tValue\n",
    "\tVacant Housing Units\t  -----   -----\n",
    "\tOccupied Housing Units\t-----   -----\n",
    "\n",
    "(4) (10 pts) Calculate the harmonic mean of the total housing units and print it out. You can find the information about harmonic mean here: https://ncalculators.com/statistics/harmonic-mean-calculator.htm"
   ]
  },
  {
   "cell_type": "code",
   "execution_count": 4,
   "metadata": {
    "colab": {},
    "colab_type": "code",
    "id": "lqGYuHBhcsRH"
   },
   "outputs": [
    {
     "name": "stdout",
     "output_type": "stream",
     "text": [
      "Part - 1\n",
      "title_field  year  diff in occupied Housing Units\n",
      "1            2009                          -795.0\n",
      "3            2011                          -303.0\n",
      "4            2012                          1404.0\n",
      "5            2013                          1565.0\n",
      "6            2014                          2622.0\n",
      "2            2010                          5091.0\n",
      "0            2008                             NaN\n",
      "\n",
      "\n",
      "Part - 2\n",
      "title_field  year  Vacant Housing Units  Occupied Housing Units\n",
      "0            2008                 10.88                   89.12\n",
      "1            2009                  9.07                   90.93\n",
      "2            2010                  8.14                   91.86\n",
      "3            2011                  9.38                   90.62\n",
      "4            2012                  6.68                   93.32\n",
      "5            2013                  8.80                   91.20\n",
      "6            2014                  5.73                   94.27\n",
      "\n",
      "\n",
      "Part - 3\n",
      "\t\t\tYear\t\tValue\n",
      "Vacant Housing Units\t 2008.0 \t 4483.0\n",
      "Occupied Housing Units\t 2014.0 \t 46295.0\n",
      "\n",
      "\n",
      "Part - 4\n",
      "Harmonic Mean is  44398.28543969185\n"
     ]
    },
    {
     "name": "stderr",
     "output_type": "stream",
     "text": [
      "<ipython-input-4-02c6f2e898fd>:31: SettingWithCopyWarning: \n",
      "A value is trying to be set on a copy of a slice from a DataFrame.\n",
      "Try using .loc[row_indexer,col_indexer] = value instead\n",
      "\n",
      "See the caveats in the documentation: https://pandas.pydata.org/pandas-docs/stable/user_guide/indexing.html#returning-a-view-versus-a-copy\n",
      "  res2['Vacant Housing Units'] = round((res2.iloc[:,2]/res2.iloc[:,3])*100,2)\n",
      "<ipython-input-4-02c6f2e898fd>:32: SettingWithCopyWarning: \n",
      "A value is trying to be set on a copy of a slice from a DataFrame.\n",
      "Try using .loc[row_indexer,col_indexer] = value instead\n",
      "\n",
      "See the caveats in the documentation: https://pandas.pydata.org/pandas-docs/stable/user_guide/indexing.html#returning-a-view-versus-a-copy\n",
      "  res2['Occupied Housing Units'] = round((res2.iloc[:,1]/res2.iloc[:,3])*100,2)\n"
     ]
    }
   ],
   "source": [
    "# Your code here\n",
    "#1 \n",
    "print(\"Part - 1\")\n",
    "import pandas as pd\n",
    "\n",
    "df= pd.read_csv (\"Assignment1_denton_housing.csv\", header=None)\n",
    "\n",
    "\n",
    "headers = df.iloc[0]\n",
    "df  = pd.DataFrame(df.values[1:], columns=headers)\n",
    "convert_dict = {'year': int,'value':int}  \n",
    "df = df.astype(convert_dict)  \n",
    "#year \ttitle_field \tvalue\n",
    "res = df.pivot_table(index=['year'], columns='title_field',\n",
    "                     values='value', aggfunc='first').reset_index()\n",
    "\n",
    "res.head()\n",
    "\n",
    "res.dtypes\n",
    "res['diff in occupied Housing Units'] = res['Occupied Housing Units'].diff()\n",
    "res.head()\n",
    "res_1=res[['year','diff in occupied Housing Units']]\n",
    "print(res_1.sort_values(by = 'diff in occupied Housing Units'))\n",
    "\n",
    "\n",
    "#2\n",
    "\n",
    "print(\"\\n\\nPart - 2\")\n",
    "res.head()\n",
    "res2 = res[['year','Occupied Housing Units','Vacant Housing Units','Total Housing Units']]\n",
    "res2['Vacant Housing Units'] = round((res2.iloc[:,2]/res2.iloc[:,3])*100,2)\n",
    "res2['Occupied Housing Units'] = round((res2.iloc[:,1]/res2.iloc[:,3])*100,2)\n",
    "res2.head()\n",
    "print(res2[['year','Vacant Housing Units','Occupied Housing Units']])\n",
    "\n",
    "#3\n",
    "print('\\n\\nPart - 3')\n",
    "res.head()\n",
    "col = \"Occupied Housing Units\"\n",
    "max_O = res.loc[res[col].idxmax()]\n",
    "max_O\n",
    "\n",
    "col = \"Vacant Housing Units\"\n",
    "max_V = res.loc[res[col].idxmax()]\n",
    "max_V\n",
    "\n",
    "print(\"\\t\\t\\tYear\\t\\tValue\")\n",
    "print(\"Vacant Housing Units\\t\",max_V['year'],\"\\t\",max_V['Vacant Housing Units'])\n",
    "print(\"Occupied Housing Units\\t\",max_O['year'],\"\\t\",max_O['Occupied Housing Units'])\n",
    "\n",
    "#4\n",
    "print(\"\\n\\nPart - 4\")\n",
    "import statistics\n",
    "\n",
    "data = res['Total Housing Units'].values.tolist()\n",
    "print(\"Harmonic Mean is \", statistics.harmonic_mean(data))"
   ]
  },
  {
   "cell_type": "code",
   "execution_count": null,
   "metadata": {},
   "outputs": [],
   "source": []
  },
  {
   "cell_type": "code",
   "execution_count": null,
   "metadata": {},
   "outputs": [],
   "source": []
  },
  {
   "cell_type": "code",
   "execution_count": null,
   "metadata": {},
   "outputs": [],
   "source": []
  }
 ],
 "metadata": {
  "colab": {
   "authorship_tag": "ABX9TyOAjsNCkNulTpzgRQbHdy3f",
   "collapsed_sections": [],
   "include_colab_link": true,
   "name": "INFO5731_Assignment_One.ipynb",
   "provenance": []
  },
  "kernelspec": {
   "display_name": "Python 3 (ipykernel)",
   "language": "python",
   "name": "python3"
  },
  "language_info": {
   "codemirror_mode": {
    "name": "ipython",
    "version": 3
   },
   "file_extension": ".py",
   "mimetype": "text/x-python",
   "name": "python",
   "nbconvert_exporter": "python",
   "pygments_lexer": "ipython3",
   "version": "3.9.12"
  }
 },
 "nbformat": 4,
 "nbformat_minor": 1
}
